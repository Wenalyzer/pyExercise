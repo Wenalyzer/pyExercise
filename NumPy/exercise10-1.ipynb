{
 "cells": [
  {
   "cell_type": "code",
   "execution_count": 1,
   "id": "4fb4e29b",
   "metadata": {},
   "outputs": [],
   "source": [
    "from pathlib import Path\n",
    "import numpy as np"
   ]
  },
  {
   "cell_type": "code",
   "execution_count": 2,
   "id": "115d5a31",
   "metadata": {},
   "outputs": [
    {
     "data": {
      "text/plain": [
       "WindowsPath('c:/Users/Wenkai/Python Exercises/NumPy/Ex10_1.csv')"
      ]
     },
     "execution_count": 2,
     "metadata": {},
     "output_type": "execute_result"
    }
   ],
   "source": [
    "path = Path.cwd()/\"Ex10_1.csv\"\n",
    "path"
   ]
  },
  {
   "cell_type": "code",
   "execution_count": 3,
   "id": "b7bfa89b",
   "metadata": {},
   "outputs": [
    {
     "name": "stdout",
     "output_type": "stream",
     "text": [
      "已儲存陣列為Ex10_1.csv檔\n"
     ]
    }
   ],
   "source": [
    "data = np.array(\n",
    "        [[\"Alice\", 80, 90, 85],\n",
    "         [\"Bob\", 70, 75, 80],\n",
    "         [\"Charlie\", 88, 92, 86],\n",
    "         [\"David\", 60, 65, 70],\n",
    "         [\"Eva\", 95, 88, 94]]\n",
    "    )\n",
    "\n",
    "header = \"姓名,國文,英文,數學\"\n",
    "np.savetxt(\n",
    "    path,\n",
    "    data,\n",
    "    delimiter=\",\",\n",
    "    # 存檔為文字類型\n",
    "    fmt=\"%s\",\n",
    "    # 加上標題\n",
    "    header=header,\n",
    "    # 加在標題前的文字，預設為\"#\"，可改為空字串\n",
    "    comments=\"\",\n",
    "    encoding=\"utf-8\"\n",
    ")\n",
    "print(f\"已儲存陣列為{path.name}檔\")"
   ]
  },
  {
   "cell_type": "code",
   "execution_count": 4,
   "id": "910bcf1f",
   "metadata": {},
   "outputs": [
    {
     "data": {
      "text/plain": [
       "array([['Alice', '80', '90', '85'],\n",
       "       ['Bob', '70', '75', '80'],\n",
       "       ['Charlie', '88', '92', '86'],\n",
       "       ['David', '60', '65', '70'],\n",
       "       ['Eva', '95', '88', '94']], dtype='<U7')"
      ]
     },
     "execution_count": 4,
     "metadata": {},
     "output_type": "execute_result"
    }
   ],
   "source": [
    "data_load = np.genfromtxt(\n",
    "    path,\n",
    "    # 分隔符號，預設為空白字元\n",
    "    delimiter=\",\",\n",
    "    # 設定結果陣列的資料類型，如不設定會依照各欄位自動推定類型\n",
    "    dtype=str,\n",
    "    # 使用當初文字編碼方式來解碼\n",
    "    encoding=\"utf-8\",\n",
    "    # 跳過第一列標題\n",
    "    skip_header=1\n",
    ")\n",
    "data_load"
   ]
  }
 ],
 "metadata": {
  "kernelspec": {
   "display_name": "pyETL",
   "language": "python",
   "name": "python3"
  },
  "language_info": {
   "codemirror_mode": {
    "name": "ipython",
    "version": 3
   },
   "file_extension": ".py",
   "mimetype": "text/x-python",
   "name": "python",
   "nbconvert_exporter": "python",
   "pygments_lexer": "ipython3",
   "version": "3.12.10"
  }
 },
 "nbformat": 4,
 "nbformat_minor": 5
}
