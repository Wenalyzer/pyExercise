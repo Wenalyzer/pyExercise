{
 "cells": [
  {
   "cell_type": "code",
   "execution_count": 1,
   "id": "0526b8a1",
   "metadata": {},
   "outputs": [],
   "source": [
    "import pandas as pd"
   ]
  },
  {
   "cell_type": "code",
   "execution_count": 2,
   "id": "fdebc15d",
   "metadata": {},
   "outputs": [],
   "source": [
    "fruit_sales = pd.DataFrame({\"Apples\": [35, 41],\n",
    "                          \"Bananas\": [21, 34]},\n",
    "                          index=[\"2017 Sales\", \"2018 Sales\"])"
   ]
  },
  {
   "cell_type": "code",
   "execution_count": 22,
   "id": "39dca157",
   "metadata": {},
   "outputs": [
    {
     "data": {
      "text/html": [
       "<div>\n",
       "<style scoped>\n",
       "    .dataframe tbody tr th:only-of-type {\n",
       "        vertical-align: middle;\n",
       "    }\n",
       "\n",
       "    .dataframe tbody tr th {\n",
       "        vertical-align: top;\n",
       "    }\n",
       "\n",
       "    .dataframe thead th {\n",
       "        text-align: right;\n",
       "    }\n",
       "</style>\n",
       "<table border=\"1\" class=\"dataframe\">\n",
       "  <thead>\n",
       "    <tr style=\"text-align: right;\">\n",
       "      <th></th>\n",
       "      <th>Apples</th>\n",
       "      <th>Bananas</th>\n",
       "    </tr>\n",
       "  </thead>\n",
       "  <tbody>\n",
       "    <tr>\n",
       "      <th>2017 Sales</th>\n",
       "      <td>35</td>\n",
       "      <td>21</td>\n",
       "    </tr>\n",
       "    <tr>\n",
       "      <th>2018 Sales</th>\n",
       "      <td>41</td>\n",
       "      <td>34</td>\n",
       "    </tr>\n",
       "  </tbody>\n",
       "</table>\n",
       "</div>"
      ],
      "text/plain": [
       "            Apples  Bananas\n",
       "2017 Sales      35       21\n",
       "2018 Sales      41       34"
      ]
     },
     "execution_count": 22,
     "metadata": {},
     "output_type": "execute_result"
    }
   ],
   "source": [
    "fruit_sales"
   ]
  },
  {
   "cell_type": "code",
   "execution_count": 11,
   "id": "69a58216",
   "metadata": {},
   "outputs": [
    {
     "data": {
      "text/plain": [
       "2017 Sales    35\n",
       "2018 Sales    41\n",
       "Name: Apples, dtype: int64"
      ]
     },
     "execution_count": 11,
     "metadata": {},
     "output_type": "execute_result"
    }
   ],
   "source": [
    "fruit_sales.Apples # Accessing the Apples column (Series)"
   ]
  },
  {
   "cell_type": "code",
   "execution_count": 13,
   "id": "61b51461",
   "metadata": {},
   "outputs": [
    {
     "data": {
      "text/plain": [
       "2017 Sales    21\n",
       "2018 Sales    34\n",
       "Name: Bananas, dtype: int64"
      ]
     },
     "execution_count": 13,
     "metadata": {},
     "output_type": "execute_result"
    }
   ],
   "source": [
    "fruit_sales[\"Bananas\"] # Accessing the Bananas column (Series)"
   ]
  },
  {
   "cell_type": "code",
   "execution_count": null,
   "id": "b3dbf761",
   "metadata": {},
   "outputs": [
    {
     "name": "stdout",
     "output_type": "stream",
     "text": [
      "<class 'numpy.int64'>\n"
     ]
    },
    {
     "name": "stderr",
     "output_type": "stream",
     "text": [
      "C:\\Users\\TMP-214\\AppData\\Local\\Temp\\ipykernel_5768\\3064138399.py:1: FutureWarning: Series.__getitem__ treating keys as positions is deprecated. In a future version, integer keys will always be treated as labels (consistent with DataFrame behavior). To access a value by position, use `ser.iloc[pos]`\n",
      "  print(type(fruit_sales[\"Apples\"][0]))\n"
     ]
    }
   ],
   "source": [
    "print(type(fruit_sales[\"Apples\"][0]))  # Future warning. Use fruit_sales[\"Apples\"].iloc[0] instead"
   ]
  },
  {
   "cell_type": "code",
   "execution_count": 19,
   "id": "931d3ee4",
   "metadata": {},
   "outputs": [
    {
     "data": {
      "text/plain": [
       "np.int64(35)"
      ]
     },
     "execution_count": 19,
     "metadata": {},
     "output_type": "execute_result"
    }
   ],
   "source": [
    "fruit_sales[\"Apples\"].iloc[0]"
   ]
  },
  {
   "cell_type": "code",
   "execution_count": null,
   "id": "05e0579e",
   "metadata": {},
   "outputs": [
    {
     "data": {
      "text/plain": [
       "Apples     35\n",
       "Bananas    21\n",
       "Name: 2017 Sales, dtype: int64"
      ]
     },
     "execution_count": 25,
     "metadata": {},
     "output_type": "execute_result"
    }
   ],
   "source": [
    "fruit_sales.iloc[0] # Accessing the first row (Series), columns become the index"
   ]
  },
  {
   "cell_type": "code",
   "execution_count": 26,
   "id": "47eed2d6",
   "metadata": {},
   "outputs": [
    {
     "data": {
      "text/plain": [
       "Apples     35\n",
       "Bananas    21\n",
       "Name: 2017 Sales, dtype: int64"
      ]
     },
     "execution_count": 26,
     "metadata": {},
     "output_type": "execute_result"
    }
   ],
   "source": [
    "fruit_sales.loc[\"2017 Sales\"] # Accessing the 2017 Sales row"
   ]
  },
  {
   "cell_type": "code",
   "execution_count": null,
   "id": "03e13b5a",
   "metadata": {},
   "outputs": [
    {
     "data": {
      "text/plain": [
       "2017 Sales    35\n",
       "2018 Sales    41\n",
       "Name: Apples, dtype: int64"
      ]
     },
     "execution_count": 29,
     "metadata": {},
     "output_type": "execute_result"
    }
   ],
   "source": [
    "fruit_sales.iloc[:, 0] # Accessing all rows of the first column (Series)"
   ]
  }
 ],
 "metadata": {
  "kernelspec": {
   "display_name": "py-env",
   "language": "python",
   "name": "python3"
  },
  "language_info": {
   "codemirror_mode": {
    "name": "ipython",
    "version": 3
   },
   "file_extension": ".py",
   "mimetype": "text/x-python",
   "name": "python",
   "nbconvert_exporter": "python",
   "pygments_lexer": "ipython3",
   "version": "3.10.17"
  }
 },
 "nbformat": 4,
 "nbformat_minor": 5
}
