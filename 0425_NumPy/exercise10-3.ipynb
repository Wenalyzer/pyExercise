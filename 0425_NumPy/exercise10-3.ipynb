{
 "cells": [
  {
   "cell_type": "code",
   "execution_count": 1,
   "id": "0b87791c",
   "metadata": {},
   "outputs": [],
   "source": [
    "import numpy as np"
   ]
  },
  {
   "cell_type": "code",
   "execution_count": 22,
   "id": "35b700ac",
   "metadata": {},
   "outputs": [
    {
     "data": {
      "text/plain": [
       "array([[60., 70., 80.],\n",
       "       [70., 80., 90.]])"
      ]
     },
     "execution_count": 22,
     "metadata": {},
     "output_type": "execute_result"
    }
   ],
   "source": [
    "stu_num = int(input(\"請問有幾個學生? \"))\n",
    "\n",
    "names = []\n",
    "scores = []\n",
    "\n",
    "for i in range(stu_num):\n",
    "    tmp_data = input(f\"請輸入第{i+1}位學生名與國、英、數成績: \").split()\n",
    "    names.append(tmp_data[0])\n",
    "    # scores.append(list(map(int, tmp_data[1:4])))\n",
    "    scores.append(tmp_data[1:4])\n",
    "\n",
    "stu_scores = np.array(scores).astype(float)\n",
    "stu_scores"
   ]
  },
  {
   "cell_type": "code",
   "execution_count": 23,
   "id": "53cdad1b",
   "metadata": {},
   "outputs": [],
   "source": [
    "totals = stu_scores.mean(axis=1)\n",
    "averages = stu_scores.sum(axis=1)"
   ]
  },
  {
   "cell_type": "code",
   "execution_count": 24,
   "id": "071e554a",
   "metadata": {},
   "outputs": [
    {
     "name": "stdout",
     "output_type": "stream",
     "text": [
      "結果:\n",
      "[['Uika' '70.0' '210.0']\n",
      " ['Saki' '80.0' '240.0']]\n"
     ]
    }
   ],
   "source": [
    "results = np.column_stack((names, totals, averages))\n",
    "print(f\"結果:\\n{results}\")"
   ]
  }
 ],
 "metadata": {
  "kernelspec": {
   "display_name": "myenv",
   "language": "python",
   "name": "python3"
  },
  "language_info": {
   "codemirror_mode": {
    "name": "ipython",
    "version": 3
   },
   "file_extension": ".py",
   "mimetype": "text/x-python",
   "name": "python",
   "nbconvert_exporter": "python",
   "pygments_lexer": "ipython3",
   "version": "3.12.9"
  }
 },
 "nbformat": 4,
 "nbformat_minor": 5
}
