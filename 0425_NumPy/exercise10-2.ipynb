{
 "cells": [
  {
   "cell_type": "code",
   "execution_count": null,
   "id": "a8011f89",
   "metadata": {},
   "outputs": [],
   "source": [
    "import numpy as np"
   ]
  },
  {
   "cell_type": "code",
   "execution_count": 2,
   "id": "cbaee87f",
   "metadata": {},
   "outputs": [
    {
     "name": "stdout",
     "output_type": "stream",
     "text": [
      "輸入完畢！\n"
     ]
    },
    {
     "data": {
      "text/plain": [
       "array([['Mary', '89', '50', '94'],\n",
       "       ['John', '50', '70', '55']], dtype='<U4')"
      ]
     },
     "execution_count": 2,
     "metadata": {},
     "output_type": "execute_result"
    }
   ],
   "source": [
    "stu_num = int(input(\"請問有幾個學生? \"))\n",
    "\n",
    "stu_list = []\n",
    "for i in range(stu_num):\n",
    "    tmp_data = input(f\"請輸入第{i+1}位學生名與國、英、數成績: \").split()\n",
    "    stu_list.append(tmp_data)\n",
    "\n",
    "print(\"輸入完畢！\")\n",
    "\n",
    "stu_array = np.array(stu_list)\n",
    "stu_array"
   ]
  },
  {
   "cell_type": "code",
   "execution_count": 5,
   "id": "6d8536bc",
   "metadata": {},
   "outputs": [
    {
     "name": "stdout",
     "output_type": "stream",
     "text": [
      "查無此學生！\n"
     ]
    }
   ],
   "source": [
    "search_str = input(\"請輸入欲查詢的學生名: \").lower()\n",
    "\n",
    "found = False\n",
    "for s in stu_array:\n",
    "    if search_str in s[0].lower():\n",
    "        found = True\n",
    "        print(s[0], s[1], s[2], s[3])\n",
    "if not found:\n",
    "    print(\"查無此學生！\")"
   ]
  }
 ],
 "metadata": {
  "kernelspec": {
   "display_name": "myenv",
   "language": "python",
   "name": "python3"
  },
  "language_info": {
   "codemirror_mode": {
    "name": "ipython",
    "version": 3
   },
   "file_extension": ".py",
   "mimetype": "text/x-python",
   "name": "python",
   "nbconvert_exporter": "python",
   "pygments_lexer": "ipython3",
   "version": "3.12.9"
  }
 },
 "nbformat": 4,
 "nbformat_minor": 5
}
