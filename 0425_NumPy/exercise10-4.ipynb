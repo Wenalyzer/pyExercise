{
 "cells": [
  {
   "cell_type": "code",
   "execution_count": 1,
   "id": "0b87791c",
   "metadata": {},
   "outputs": [],
   "source": [
    "import numpy as np\n",
    "from pathlib import Path"
   ]
  },
  {
   "cell_type": "code",
   "execution_count": 2,
   "id": "35b700ac",
   "metadata": {},
   "outputs": [
    {
     "data": {
      "text/plain": [
       "array([['Alice', '80', '90', '85'],\n",
       "       ['Bob', '70', '75', '80'],\n",
       "       ['Charlie', '88', '92', '86'],\n",
       "       ['David', '60', '65', '70'],\n",
       "       ['Eva', '95', '88', '94']], dtype='<U7')"
      ]
     },
     "execution_count": 2,
     "metadata": {},
     "output_type": "execute_result"
    }
   ],
   "source": [
    "load_path = Path.cwd()/\"Ex10_1.csv\"\n",
    "data = np.genfromtxt(\n",
    "    load_path,\n",
    "    delimiter=\",\",\n",
    "    dtype=str,\n",
    "    encoding=\"utf-8\",\n",
    "    skip_header=1,\n",
    ")\n",
    "\n",
    "data"
   ]
  },
  {
   "cell_type": "code",
   "execution_count": 3,
   "id": "5e5cd335",
   "metadata": {},
   "outputs": [
    {
     "data": {
      "text/plain": [
       "(array(['Alice', 'Bob', 'Charlie', 'David', 'Eva'], dtype='<U7'),\n",
       " array([[80., 90., 85.],\n",
       "        [70., 75., 80.],\n",
       "        [88., 92., 86.],\n",
       "        [60., 65., 70.],\n",
       "        [95., 88., 94.]]))"
      ]
     },
     "execution_count": 3,
     "metadata": {},
     "output_type": "execute_result"
    }
   ],
   "source": [
    "names = data[:, 0]\n",
    "scores = data[:, 1:4].astype(float)\n",
    "\n",
    "names, scores"
   ]
  },
  {
   "cell_type": "code",
   "execution_count": 4,
   "id": "6f74a999",
   "metadata": {},
   "outputs": [
    {
     "data": {
      "text/plain": [
       "(array([255., 225., 266., 195., 277.]),\n",
       " array([85.        , 75.        , 88.66666667, 65.        , 92.33333333]))"
      ]
     },
     "execution_count": 4,
     "metadata": {},
     "output_type": "execute_result"
    }
   ],
   "source": [
    "totals = scores.sum(axis=1)\n",
    "avgs = scores.mean(axis=1)\n",
    "totals, avgs"
   ]
  },
  {
   "cell_type": "code",
   "execution_count": 5,
   "id": "7f1789a1",
   "metadata": {},
   "outputs": [
    {
     "data": {
      "text/plain": [
       "array([3, 4, 2, 5, 1])"
      ]
     },
     "execution_count": 5,
     "metadata": {},
     "output_type": "execute_result"
    }
   ],
   "source": [
    "# 先取得由大到小的排序索引\n",
    "order = np.argsort(-totals)\n",
    "\n",
    "# 建立一個空陣列存放排名\n",
    "ranks = np.empty_like(order)\n",
    "ranks[order] = np.arange(1, len(totals)+1)\n",
    "ranks"
   ]
  },
  {
   "cell_type": "code",
   "execution_count": 6,
   "id": "35ec003d",
   "metadata": {},
   "outputs": [
    {
     "data": {
      "text/plain": [
       "array([['Alice', '255.0', '85.0', '3'],\n",
       "       ['Bob', '225.0', '75.0', '4'],\n",
       "       ['Charlie', '266.0', '88.66666666666667', '2'],\n",
       "       ['David', '195.0', '65.0', '5'],\n",
       "       ['Eva', '277.0', '92.33333333333333', '1']], dtype='<U32')"
      ]
     },
     "execution_count": 6,
     "metadata": {},
     "output_type": "execute_result"
    }
   ],
   "source": [
    "result = np.column_stack((names, totals, avgs, ranks))\n",
    "result"
   ]
  },
  {
   "cell_type": "code",
   "execution_count": 10,
   "id": "6a46ccb5",
   "metadata": {},
   "outputs": [
    {
     "name": "stdout",
     "output_type": "stream",
     "text": [
      "檔案已儲存至 c:\\Users\\TMP-214\\pyExercise\\0425_NumPy\\Ex10_4_result.csv\n"
     ]
    }
   ],
   "source": [
    "save_path = Path.cwd()/\"Ex10_4_result.csv\"\n",
    "header = \"姓名,總分,平均,排名\"\n",
    "np.savetxt(\n",
    "    save_path,\n",
    "    result,\n",
    "    delimiter=\",\",\n",
    "    fmt=\"%s\",\n",
    "    header=header,\n",
    "    comments=\"\",\n",
    "    encoding=\"utf-8\"\n",
    ")\n",
    "print(f\"檔案已儲存至 {save_path}\")"
   ]
  }
 ],
 "metadata": {
  "kernelspec": {
   "display_name": "myenv",
   "language": "python",
   "name": "python3"
  },
  "language_info": {
   "codemirror_mode": {
    "name": "ipython",
    "version": 3
   },
   "file_extension": ".py",
   "mimetype": "text/x-python",
   "name": "python",
   "nbconvert_exporter": "python",
   "pygments_lexer": "ipython3",
   "version": "3.12.9"
  }
 },
 "nbformat": 4,
 "nbformat_minor": 5
}
