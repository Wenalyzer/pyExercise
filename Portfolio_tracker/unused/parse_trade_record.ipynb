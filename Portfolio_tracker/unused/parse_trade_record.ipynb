{
 "cells": [
  {
   "cell_type": "code",
   "execution_count": 1,
   "id": "ab60f0cf",
   "metadata": {},
   "outputs": [],
   "source": [
    "from pathlib import Path\n",
    "import pandas as pd"
   ]
  },
  {
   "cell_type": "code",
   "execution_count": 2,
   "id": "38957281",
   "metadata": {},
   "outputs": [
    {
     "data": {
      "text/plain": [
       "WindowsPath('c:/Users/Wenkai/pyExercise/0430_Stock_tracker')"
      ]
     },
     "execution_count": 2,
     "metadata": {},
     "output_type": "execute_result"
    }
   ],
   "source": [
    "path = Path.cwd()\n",
    "path"
   ]
  },
  {
   "cell_type": "code",
   "execution_count": 3,
   "id": "b0ac7185",
   "metadata": {},
   "outputs": [],
   "source": [
    "def load_df_csv(read_dir):\n",
    "    usecols = [0, 2, 5, 6, 7, 8, 13]\n",
    "    df_csv = pd.read_csv(\n",
    "        read_dir/\"data\"/\"trade_record_raw.csv\",\n",
    "        delimiter=\",\",\n",
    "        usecols=usecols,\n",
    "        engine=\"python\"\n",
    "    )\n",
    "    \n",
    "    # 設定第2欄為index\n",
    "    df_csv.set_index(df_csv.columns[1], inplace=True)\n",
    "    # 先把index為NaN的row移除\n",
    "    df_csv = df_csv[~df_csv.index.isna()]\n",
    "    # 其餘NaN值填0\n",
    "    df_csv = df_csv.fillna(0)\n",
    "\n",
    "    # 顯示前5列\n",
    "    print(df_csv.head())\n",
    "    print(\"-----------------------------------\")\n",
    "    # 顯示欄位資訊與型態\n",
    "    print(df_csv.info())\n",
    "    print(\"-----------------------------------\")\n",
    "    # 顯示數值型欄位的統計摘要\n",
    "    print(df_csv.describe())\n",
    "    print(\"-----------------------------------\")\n",
    "    return df_csv"
   ]
  },
  {
   "cell_type": "code",
   "execution_count": 4,
   "id": "6c5eca34",
   "metadata": {},
   "outputs": [],
   "source": [
    "def save_df_csv(df, write_dir):\n",
    "\n",
    "    df.to_csv(\n",
    "        write_dir/\"data\"/\"trade_record_done.csv\",\n",
    "        header=True,\n",
    "        index=True\n",
    "    )\n",
    "\n",
    "    print(\"已儲存csv檔\")"
   ]
  },
  {
   "cell_type": "code",
   "execution_count": 5,
   "id": "601f355f",
   "metadata": {},
   "outputs": [],
   "source": [
    "def main():\n",
    "    # 指定載入目錄\n",
    "    df_csv = load_df_csv(path)\n",
    "    df_csv\n",
    "\n",
    "    # 指定存檔目錄，不存在就建立\n",
    "    path.mkdir(exist_ok=True)\n",
    "    save_df_csv(df_csv, path)"
   ]
  },
  {
   "cell_type": "code",
   "execution_count": 6,
   "id": "36bddfb4",
   "metadata": {},
   "outputs": [
    {
     "name": "stdout",
     "output_type": "stream",
     "text": [
      "             交易日期  買入股數   買入價格  賣出股數  賣出價格 股息\n",
      "代號                                           \n",
      "006208  2023/7/20  30.0  74.82   0.0   0.0  0\n",
      "006208  2023/7/25  30.0  74.50   0.0   0.0  0\n",
      "006208   2023/8/7  28.0  74.17   0.0   0.0  0\n",
      "006208  2023/8/15  29.0  72.17   0.0   0.0  0\n",
      "006208  2023/8/25  29.0  72.33   0.0   0.0  0\n",
      "-----------------------------------\n",
      "<class 'pandas.core.frame.DataFrame'>\n",
      "Index: 313 entries, 006208 to BTC\n",
      "Data columns (total 6 columns):\n",
      " #   Column  Non-Null Count  Dtype  \n",
      "---  ------  --------------  -----  \n",
      " 0   交易日期    313 non-null    object \n",
      " 1   買入股數    313 non-null    float64\n",
      " 2   買入價格    313 non-null    float64\n",
      " 3   賣出股數    313 non-null    float64\n",
      " 4   賣出價格    313 non-null    float64\n",
      " 5   股息      313 non-null    object \n",
      "dtypes: float64(4), object(2)\n",
      "memory usage: 17.1+ KB\n",
      "None\n",
      "-----------------------------------\n",
      "             買入股數          買入價格        賣出股數          賣出價格\n",
      "count  313.000000  3.130000e+02  313.000000  3.130000e+02\n",
      "mean    24.996457  7.377965e+04    1.279644  2.535833e+04\n",
      "std     37.632720  2.992944e+05   15.961457  2.224982e+05\n",
      "min      0.000000  0.000000e+00    0.000000  0.000000e+00\n",
      "25%      0.050000  3.055000e+01    0.000000  0.000000e+00\n",
      "50%      0.200640  1.105200e+02    0.000000  0.000000e+00\n",
      "75%     35.000000  1.320100e+04    0.000000  0.000000e+00\n",
      "max    287.310000  2.214647e+06  200.000000  2.976150e+06\n",
      "-----------------------------------\n",
      "已儲存csv檔\n"
     ]
    }
   ],
   "source": [
    "main()"
   ]
  }
 ],
 "metadata": {
  "kernelspec": {
   "display_name": "py-env",
   "language": "python",
   "name": "python3"
  },
  "language_info": {
   "codemirror_mode": {
    "name": "ipython",
    "version": 3
   },
   "file_extension": ".py",
   "mimetype": "text/x-python",
   "name": "python",
   "nbconvert_exporter": "python",
   "pygments_lexer": "ipython3",
   "version": "3.10.17"
  }
 },
 "nbformat": 4,
 "nbformat_minor": 5
}
